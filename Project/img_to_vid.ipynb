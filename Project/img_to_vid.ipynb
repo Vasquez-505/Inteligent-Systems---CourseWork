{
 "cells": [
  {
   "cell_type": "code",
   "execution_count": 3,
   "id": "b7d4c126-c565-475f-89b3-4e2e4e64315e",
   "metadata": {},
   "outputs": [
    {
     "name": "stdout",
     "output_type": "stream",
     "text": [
      "Found 160 PNG files.\n",
      "Image size: 653x169\n",
      "Processed 25/160 frames...\n",
      "Processed 50/160 frames...\n",
      "Processed 75/160 frames...\n",
      "Processed 100/160 frames...\n",
      "Processed 125/160 frames...\n",
      "Processed 150/160 frames...\n",
      "Processed 160/160 frames...\n",
      "\n",
      " Video saved successfully as: C:\\Users\\pepev\\Desktop\\CantonS_unamp_Fly14.1\\fly14.1.mp4\n"
     ]
    }
   ],
   "source": [
    "import cv2\n",
    "import os\n",
    "import glob\n",
    "\n",
    "# === 1. Path to your folder with PNG images ===\n",
    "img_dir = r\"C:\\Users\\pepev\\Desktop\\CantonS_unamp_Fly14.1\"\n",
    "\n",
    "# === 2. Collect PNGs (handles .png and .PNG), remove duplicates, sort numerically ===\n",
    "images = sorted(\n",
    "    set(glob.glob(os.path.join(img_dir, \"*.png\")) + glob.glob(os.path.join(img_dir, \"*.PNG\"))),\n",
    "    key=lambda x: int(os.path.splitext(os.path.basename(x))[0])\n",
    ")\n",
    "\n",
    "print(f\"Found {len(images)} PNG files.\")\n",
    "if not images:\n",
    "    print(\"  No PNG files found. Check your folder path or extensions.\")\n",
    "    exit()\n",
    "\n",
    "# === 3. Read the first image to get size ===\n",
    "frame = cv2.imread(images[0])\n",
    "if frame is None:\n",
    "    raise RuntimeError(\" Could not read the first image. Check file integrity or format.\")\n",
    "height, width, _ = frame.shape\n",
    "print(f\"Image size: {width}x{height}\")\n",
    "\n",
    "# === 4. Set output path and video parameters ===\n",
    "out_path = os.path.join(img_dir, \"fly14.1.mp4\")\n",
    "fps = 250  \n",
    "\n",
    "# === 5. Create video writer ===\n",
    "out = cv2.VideoWriter(out_path, cv2.VideoWriter_fourcc(*'mp4v'), fps, (width, height))\n",
    "\n",
    "# === 6. Write all frames ===\n",
    "for i, img_path in enumerate(images):\n",
    "    frame = cv2.imread(img_path)\n",
    "    if frame is None:\n",
    "        print(f\"  Skipping unreadable image: {img_path}\")\n",
    "        continue\n",
    "    out.write(frame)\n",
    "    if (i + 1) % 25 == 0 or i == len(images) - 1:\n",
    "        print(f\"Processed {i + 1}/{len(images)} frames...\")\n",
    "\n",
    "out.release()\n",
    "print(f\"\\n Video saved successfully as: {out_path}\")"
   ]
  },
  {
   "cell_type": "code",
   "execution_count": null,
   "id": "04bd8342-e983-4a31-8c5b-1ea6c80d563a",
   "metadata": {},
   "outputs": [],
   "source": []
  }
 ],
 "metadata": {
  "kernelspec": {
   "display_name": "Python 3 (ipykernel)",
   "language": "python",
   "name": "python3"
  },
  "language_info": {
   "codemirror_mode": {
    "name": "ipython",
    "version": 3
   },
   "file_extension": ".py",
   "mimetype": "text/x-python",
   "name": "python",
   "nbconvert_exporter": "python",
   "pygments_lexer": "ipython3",
   "version": "3.13.5"
  }
 },
 "nbformat": 4,
 "nbformat_minor": 5
}
